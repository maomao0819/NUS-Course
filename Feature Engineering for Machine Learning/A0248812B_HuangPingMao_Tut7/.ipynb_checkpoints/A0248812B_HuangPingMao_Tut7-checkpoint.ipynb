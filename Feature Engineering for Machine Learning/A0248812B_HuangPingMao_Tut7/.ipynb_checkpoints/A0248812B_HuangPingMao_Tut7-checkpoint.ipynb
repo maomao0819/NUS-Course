{
 "cells": [
  {
   "cell_type": "markdown",
   "metadata": {},
   "source": [
    "## import the library we need."
   ]
  },
  {
   "cell_type": "code",
   "execution_count": 1,
   "metadata": {},
   "outputs": [],
   "source": [
    "import numpy as np\n",
    "from scipy.io import wavfile\n",
    "import matplotlib.pyplot as plt"
   ]
  },
  {
   "cell_type": "markdown",
   "metadata": {},
   "source": [
    "# Question 1\n",
    "## Visit the following website using your mobile phone or another computer other than the one that you are using to do this tutorial: https://www.szynalski.com/tone-generator/\n",
    "#### Note: Alternatively, you can also find a free tone generator app for your mobile phone. For iOS, you can download “Tone Generator”. It is free. You should not need to pay for the app.\n",
    "## Play a tone of 1000Hz using either your mobile phone or a second computer (i.e. not the one that you are using to develop and run your program for this tutorial).\n",
    "## Using a sampling frequency of 44.1kHz, record the tone for 5 second and store the audio recording in a file. Name the file “tone1000Hz.wav”.\n",
    "## Repeat the above for tones of 2000Hz, 5000Hz, 10000Hz. Name the files “tone2000Hz.wav”, “tone5000Hz.wav” and “tone10000Hz.wav” respectively when you save the recorded audio signals.\n",
    "* Hint for Question 1:  \n",
    "import sounddevice"
   ]
  },
  {
   "cell_type": "code",
   "execution_count": 2,
   "metadata": {},
   "outputs": [],
   "source": [
    "import sounddevice as sd"
   ]
  },
  {
   "cell_type": "code",
   "execution_count": 3,
   "metadata": {},
   "outputs": [],
   "source": [
    "SAMPLE_RATE  = 44100 #Hz\n",
    "DURATION = 5 #s"
   ]
  },
  {
   "cell_type": "code",
   "execution_count": 4,
   "metadata": {},
   "outputs": [],
   "source": [
    "def RecordAndOutputwav(freq=1000):\n",
    "    recording = sd.rec(frames=SAMPLE_RATE * DURATION, samplerate=SAMPLE_RATE , blocking=True, channels=1)\n",
    "    wavfile.write('tone' + str(freq) + 'Hz.wav', SAMPLE_RATE , recording)"
   ]
  },
  {
   "cell_type": "code",
   "execution_count": 5,
   "metadata": {},
   "outputs": [],
   "source": [
    "# frequencies = [1000, 2000, 5000, 10000]\n",
    "# for frequency in frequencies:\n",
    "#     RecordAndOutputwav(freq=frequency)"
   ]
  },
  {
   "cell_type": "code",
   "execution_count": 6,
   "metadata": {},
   "outputs": [],
   "source": [
    "# RecordAndOutputwav(freq=1000)"
   ]
  },
  {
   "cell_type": "markdown",
   "metadata": {},
   "source": [
    "**Reference:**\n",
    "* sounddevice: https://blog.csdn.net/qq_20038305/article/details/79077318"
   ]
  },
  {
   "cell_type": "markdown",
   "metadata": {},
   "source": [
    "# Question 2"
   ]
  },
  {
   "cell_type": "markdown",
   "metadata": {},
   "source": [
    "## Hint for Question 2: \n",
    "## from scipy.fft import fft"
   ]
  },
  {
   "cell_type": "code",
   "execution_count": 7,
   "metadata": {},
   "outputs": [],
   "source": [
    "from scipy.fft import fft, fftfreq, fftshift"
   ]
  },
  {
   "cell_type": "markdown",
   "metadata": {},
   "source": [
    "## (i) Read “tone1000Hz.wav”. "
   ]
  },
  {
   "cell_type": "code",
   "execution_count": 8,
   "metadata": {},
   "outputs": [],
   "source": [
    "SampleRate, AudioData = wavfile.read('tone1000Hz.wav')"
   ]
  },
  {
   "cell_type": "markdown",
   "metadata": {},
   "source": [
    "**Reference:**\n",
    "* read sound files: https://docs.scipy.org/doc/scipy/reference/generated/scipy.io.wavfile.read.html"
   ]
  },
  {
   "cell_type": "markdown",
   "metadata": {},
   "source": [
    "## (ii) Perform FFT on the audio signal."
   ]
  },
  {
   "cell_type": "code",
   "execution_count": 9,
   "metadata": {},
   "outputs": [],
   "source": [
    "AudioDataFFT = fft(AudioData)"
   ]
  },
  {
   "cell_type": "markdown",
   "metadata": {},
   "source": [
    "## (iii) Plot the absolute value of the FFT results."
   ]
  },
  {
   "cell_type": "code",
   "execution_count": 10,
   "metadata": {},
   "outputs": [],
   "source": [
    "# Number of samples in normalized_tone\n",
    "N = len(AudioDataFFT)\n",
    "# T = N / SampleRate\n",
    "# T = np.linspace(0, N / SampleRate, N, endpoint=False)\n",
    "yf = AudioDataFFT\n",
    "\n",
    "dt = 1 / SampleRate\n",
    "xf = fftfreq(N, dt)"
   ]
  },
  {
   "cell_type": "code",
   "execution_count": 11,
   "metadata": {
    "scrolled": true
   },
   "outputs": [
    {
     "data": {
      "image/png": "[encoded data removed]",
      "text/plain": [
       "<Figure size 432x288 with 1 Axes>"
      ]
     },
     "metadata": {
      "needs_background": "light"
     },
     "output_type": "display_data"
    }
   ],
   "source": [
    "plt.plot(xf, 2 / N * np.abs(yf))\n",
    "plt.title('The absolute value of the FFT results')\n",
    "plt.xlabel('Frequency (Hz)')\n",
    "plt.ylabel('Intensity')\n",
    "plt.show()"
   ]
  },
  {
   "cell_type": "markdown",
   "metadata": {},
   "source": [
    "**Reference:**\n",
    "* https://hackmd.io/@yizhewang/HJcTbMoVu\n",
    "* https://docs.scipy.org/doc/scipy/tutorial/fft.html\n",
    "* https://realpython.com/python-scipy-fft/"
   ]
  },
  {
   "cell_type": "markdown",
   "metadata": {},
   "source": [
    "## (iv) Identify the index i.e. location of the two peaks in the FFT results from the figure plotted above."
   ]
  },
  {
   "cell_type": "code",
   "execution_count": 12,
   "metadata": {},
   "outputs": [
    {
     "name": "stdout",
     "output_type": "stream",
     "text": [
      "The index of th left peak in the FFT results is 5000 and its corresponding frequency is 1000.0\n",
      "The index of th right peak in the FFT results is 215500 and its corresponding frequency is -1000.0\n"
     ]
    }
   ],
   "source": [
    "LeftPeakID = np.argmax(yf[:int(len(yf)/2)])\n",
    "LeftPeakFreq = xf[LeftPeakID]\n",
    "RightPeakID = int(len(yf)/2) + np.argmax(yf[int(len(yf)/2):])\n",
    "RightPeakFreq = xf[RightPeakID]\n",
    "\n",
    "print('The index of th left peak in the FFT results is', LeftPeakID, 'and its corresponding frequency is', LeftPeakFreq)\n",
    "print('The index of th right peak in the FFT results is', RightPeakID, 'and its corresponding frequency is', RightPeakFreq)"
   ]
  },
  {
   "cell_type": "markdown",
   "metadata": {},
   "source": [
    "## (v) Compute the frequency resolution."
   ]
  },
  {
   "cell_type": "code",
   "execution_count": 13,
   "metadata": {},
   "outputs": [
    {
     "name": "stdout",
     "output_type": "stream",
     "text": [
      "The frequency resolution is: 0.2\n"
     ]
    }
   ],
   "source": [
    "df = SampleRate / N\n",
    "print('The frequency resolution is:', df)"
   ]
  },
  {
   "cell_type": "markdown",
   "metadata": {},
   "source": [
    "## (vi) Verify that the peaks happened at the correct frequencies in Hz as expected."
   ]
  },
  {
   "cell_type": "code",
   "execution_count": 14,
   "metadata": {},
   "outputs": [
    {
     "name": "stdout",
     "output_type": "stream",
     "text": [
      "With the original FFT results:\n",
      "The frequency of th left peak in the FFT results is: 1000.0\n",
      "The frequency of th right peak in the FFT results is: -1000.0\n",
      "With the frequency resolution:\n",
      "The frequency of th left peak in the FFT results is: 1000.0\n",
      "The frequency of th right peak in the FFT results is: -1000.0\n",
      "With the 'fftshift' method:\n",
      "The frequency of th left peak in the FFT results is: -1000.0\n",
      "The frequency of th right peak in the FFT results is: 1000.0\n"
     ]
    }
   ],
   "source": [
    "print('With the original FFT results:')\n",
    "print('The frequency of th left peak in the FFT results is:', LeftPeakFreq)\n",
    "print('The frequency of th right peak in the FFT results is:', RightPeakFreq)\n",
    "\n",
    "print('With the frequency resolution:')\n",
    "LeftPeakFreq = df * LeftPeakID\n",
    "RightPeakFreq = (df * (-1 * (int(len(yf) / 2) * -1 + RightPeakID - int(len(yf) / 2)))) * -1\n",
    "print('The frequency of th left peak in the FFT results is:', LeftPeakFreq)\n",
    "print('The frequency of th right peak in the FFT results is:', RightPeakFreq)\n",
    "\n",
    "print('With the \\'fftshift\\' method:')\n",
    "xf = fftshift(xf)\n",
    "yf = fftshift(yf)\n",
    "LeftPeakID = np.argmax(yf[:int(len(yf) / 2)])\n",
    "LeftPeakFreq = xf[LeftPeakID]\n",
    "RightPeakID = int(len(yf) / 2) + np.argmax(yf[int(len(yf) /2):])\n",
    "RightPeakFreq = xf[RightPeakID]\n",
    "print('The frequency of th left peak in the FFT results is:', LeftPeakFreq)\n",
    "print('The frequency of th right peak in the FFT results is:', RightPeakFreq)"
   ]
  },
  {
   "cell_type": "markdown",
   "metadata": {},
   "source": [
    "We can easily find that all the frequencies computed by different approaches are the same, so we verify that the peaks happened at the correct frequencies in Hz as expected."
   ]
  },
  {
   "cell_type": "markdown",
   "metadata": {},
   "source": [
    "## (vii) Repeat (i) to (vi) for the other 3 audio files created in Question 1."
   ]
  },
  {
   "cell_type": "markdown",
   "metadata": {},
   "source": [
    "### 2000Hz"
   ]
  },
  {
   "cell_type": "markdown",
   "metadata": {},
   "source": [
    "#### (i) Read “tone2000Hz.wav”. "
   ]
  },
  {
   "cell_type": "code",
   "execution_count": 15,
   "metadata": {},
   "outputs": [],
   "source": [
    "SampleRate, AudioData = wavfile.read('tone2000Hz.wav')"
   ]
  },
  {
   "cell_type": "markdown",
   "metadata": {},
   "source": [
    "#### (ii) Perform FFT on the audio signal."
   ]
  },
  {
   "cell_type": "code",
   "execution_count": 16,
   "metadata": {},
   "outputs": [],
   "source": [
    "AudioDataFFT = fft(AudioData)"
   ]
  },
  {
   "cell_type": "markdown",
   "metadata": {},
   "source": [
    "#### (iii) Plot the absolute value of the FFT results."
   ]
  },
  {
   "cell_type": "code",
   "execution_count": 17,
   "metadata": {},
   "outputs": [],
   "source": [
    "N = len(AudioDataFFT)\n",
    "yf = AudioDataFFT\n",
    "dt = 1 / SampleRate\n",
    "xf = fftfreq(N, dt)"
   ]
  },
  {
   "cell_type": "code",
   "execution_count": 18,
   "metadata": {
    "scrolled": true
   },
   "outputs": [
    {
     "data": {
      "image/png": "[encoded data removed]",
      "text/plain": [
       "<Figure size 432x288 with 1 Axes>"
      ]
     },
     "metadata": {
      "needs_background": "light"
     },
     "output_type": "display_data"
    }
   ],
   "source": [
    "plt.plot(xf, 2 / N * np.abs(yf))\n",
    "plt.title('The absolute value of the FFT results')\n",
    "plt.xlabel('Frequency (Hz)')\n",
    "plt.ylabel('Intensity')\n",
    "plt.show()"
   ]
  },
  {
   "cell_type": "markdown",
   "metadata": {},
   "source": [
    "#### (iv) Identify the index i.e. location of the two peaks in the FFT results from the figure plotted above."
   ]
  },
  {
   "cell_type": "code",
   "execution_count": 19,
   "metadata": {},
   "outputs": [
    {
     "name": "stdout",
     "output_type": "stream",
     "text": [
      "The index of th left peak in the FFT results is 10000 and its corresponding frequency is 2000.0\n",
      "The index of th right peak in the FFT results is 210500 and its corresponding frequency is -2000.0\n"
     ]
    }
   ],
   "source": [
    "LeftPeakID = np.argmax(yf[:int(len(yf)/2)])\n",
    "LeftPeakFreq = xf[LeftPeakID]\n",
    "RightPeakID = int(len(yf)/2) + np.argmax(yf[int(len(yf)/2):])\n",
    "RightPeakFreq = xf[RightPeakID]\n",
    "\n",
    "print('The index of th left peak in the FFT results is', LeftPeakID, 'and its corresponding frequency is', LeftPeakFreq)\n",
    "print('The index of th right peak in the FFT results is', RightPeakID, 'and its corresponding frequency is', RightPeakFreq)"
   ]
  },
  {
   "cell_type": "markdown",
   "metadata": {},
   "source": [
    "#### (v) Compute the frequency resolution."
   ]
  },
  {
   "cell_type": "code",
   "execution_count": 20,
   "metadata": {},
   "outputs": [
    {
     "name": "stdout",
     "output_type": "stream",
     "text": [
      "The frequency resolution is: 0.2\n"
     ]
    }
   ],
   "source": [
    "df = SampleRate / N\n",
    "print('The frequency resolution is:', df)"
   ]
  },
  {
   "cell_type": "markdown",
   "metadata": {},
   "source": [
    "#### (vi) Verify that the peaks happened at the correct frequencies in Hz as expected."
   ]
  },
  {
   "cell_type": "code",
   "execution_count": 21,
   "metadata": {
    "scrolled": true
   },
   "outputs": [
    {
     "name": "stdout",
     "output_type": "stream",
     "text": [
      "With the original FFT results:\n",
      "The frequency of th left peak in the FFT results is: 2000.0\n",
      "The frequency of th right peak in the FFT results is: -2000.0\n",
      "With the frequency resolution:\n",
      "The frequency of th left peak in the FFT results is: 2000.0\n",
      "The frequency of th right peak in the FFT results is: -2000.0\n",
      "With the 'fftshift' method:\n",
      "The frequency of th left peak in the FFT results is: -2000.0\n",
      "The frequency of th right peak in the FFT results is: 2000.0\n"
     ]
    }
   ],
   "source": [
    "print('With the original FFT results:')\n",
    "print('The frequency of th left peak in the FFT results is:', LeftPeakFreq)\n",
    "print('The frequency of th right peak in the FFT results is:', RightPeakFreq)\n",
    "\n",
    "print('With the frequency resolution:')\n",
    "LeftPeakFreq = df * LeftPeakID\n",
    "RightPeakFreq = (df * (-1 * (int(len(yf) / 2) * -1 + RightPeakID - int(len(yf) / 2)))) * -1\n",
    "print('The frequency of th left peak in the FFT results is:', LeftPeakFreq)\n",
    "print('The frequency of th right peak in the FFT results is:', RightPeakFreq)\n",
    "\n",
    "print('With the \\'fftshift\\' method:')\n",
    "xf = fftshift(xf)\n",
    "yf = fftshift(yf)\n",
    "LeftPeakID = np.argmax(yf[:int(len(yf) / 2)])\n",
    "LeftPeakFreq = xf[LeftPeakID]\n",
    "RightPeakID = int(len(yf) / 2) + np.argmax(yf[int(len(yf) / 2):])\n",
    "RightPeakFreq = xf[RightPeakID]\n",
    "print('The frequency of th left peak in the FFT results is:', LeftPeakFreq)\n",
    "print('The frequency of th right peak in the FFT results is:', RightPeakFreq)"
   ]
  },
  {
   "cell_type": "markdown",
   "metadata": {},
   "source": [
    "We can easily find that all the frequencies computed by different approaches are the same, so we verify that the peaks happened at the correct frequencies in Hz as expected."
   ]
  },
  {
   "cell_type": "markdown",
   "metadata": {},
   "source": [
    "### 5000Hz"
   ]
  },
  {
   "cell_type": "markdown",
   "metadata": {},
   "source": [
    "#### (i) Read “tone5000Hz.wav”. "
   ]
  },
  {
   "cell_type": "code",
   "execution_count": 22,
   "metadata": {},
   "outputs": [],
   "source": [
    "SampleRate, AudioData = wavfile.read('tone5000Hz.wav')"
   ]
  },
  {
   "cell_type": "markdown",
   "metadata": {},
   "source": [
    "#### (ii) Perform FFT on the audio signal."
   ]
  },
  {
   "cell_type": "code",
   "execution_count": 23,
   "metadata": {},
   "outputs": [],
   "source": [
    "AudioDataFFT = fft(AudioData)"
   ]
  },
  {
   "cell_type": "markdown",
   "metadata": {},
   "source": [
    "#### (iii) Plot the absolute value of the FFT results."
   ]
  },
  {
   "cell_type": "code",
   "execution_count": 24,
   "metadata": {},
   "outputs": [],
   "source": [
    "N = len(AudioDataFFT)\n",
    "yf = AudioDataFFT\n",
    "dt = 1 / SampleRate\n",
    "xf = fftfreq(N, dt)"
   ]
  },
  {
   "cell_type": "code",
   "execution_count": 25,
   "metadata": {
    "scrolled": true
   },
   "outputs": [
    {
     "data": {
      "image/png": "[encoded data removed]",
      "text/plain": [
       "<Figure size 432x288 with 1 Axes>"
      ]
     },
     "metadata": {
      "needs_background": "light"
     },
     "output_type": "display_data"
    }
   ],
   "source": [
    "plt.plot(xf, 2 / N * np.abs(yf))\n",
    "plt.title('The absolute value of the FFT results')\n",
    "plt.xlabel('Frequency (Hz)')\n",
    "plt.ylabel('Intensity')\n",
    "plt.show()"
   ]
  },
  {
   "cell_type": "markdown",
   "metadata": {},
   "source": [
    "#### (iv) Identify the index i.e. location of the two peaks in the FFT results from the figure plotted above."
   ]
  },
  {
   "cell_type": "code",
   "execution_count": 26,
   "metadata": {},
   "outputs": [
    {
     "name": "stdout",
     "output_type": "stream",
     "text": [
      "The index of th left peak in the FFT results is 25000 and its corresponding frequency is 5000.0\n",
      "The index of th right peak in the FFT results is 195500 and its corresponding frequency is -5000.0\n"
     ]
    }
   ],
   "source": [
    "LeftPeakID = np.argmax(yf[:int(len(yf)/2)])\n",
    "LeftPeakFreq = xf[LeftPeakID]\n",
    "RightPeakID = int(len(yf)/2) + np.argmax(yf[int(len(yf)/2):])\n",
    "RightPeakFreq = xf[RightPeakID]\n",
    "\n",
    "print('The index of th left peak in the FFT results is', LeftPeakID, 'and its corresponding frequency is', LeftPeakFreq)\n",
    "print('The index of th right peak in the FFT results is', RightPeakID, 'and its corresponding frequency is', RightPeakFreq)"
   ]
  },
  {
   "cell_type": "markdown",
   "metadata": {},
   "source": [
    "#### (v) Compute the frequency resolution."
   ]
  },
  {
   "cell_type": "code",
   "execution_count": 27,
   "metadata": {},
   "outputs": [
    {
     "name": "stdout",
     "output_type": "stream",
     "text": [
      "The frequency resolution is: 0.2\n"
     ]
    }
   ],
   "source": [
    "df = SampleRate / N\n",
    "print('The frequency resolution is:', df)"
   ]
  },
  {
   "cell_type": "markdown",
   "metadata": {},
   "source": [
    "#### (vi) Verify that the peaks happened at the correct frequencies in Hz as expected."
   ]
  },
  {
   "cell_type": "code",
   "execution_count": 28,
   "metadata": {
    "scrolled": true
   },
   "outputs": [
    {
     "name": "stdout",
     "output_type": "stream",
     "text": [
      "With the original FFT results:\n",
      "The frequency of th left peak in the FFT results is: 5000.0\n",
      "The frequency of th right peak in the FFT results is: -5000.0\n",
      "With the frequency resolution:\n",
      "The frequency of th left peak in the FFT results is: 5000.0\n",
      "The frequency of th right peak in the FFT results is: -5000.0\n",
      "With the 'fftshift' method:\n",
      "The frequency of th left peak in the FFT results is: -5000.0\n",
      "The frequency of th right peak in the FFT results is: 5000.0\n"
     ]
    }
   ],
   "source": [
    "print('With the original FFT results:')\n",
    "print('The frequency of th left peak in the FFT results is:', LeftPeakFreq)\n",
    "print('The frequency of th right peak in the FFT results is:', RightPeakFreq)\n",
    "\n",
    "print('With the frequency resolution:')\n",
    "LeftPeakFreq = df * LeftPeakID\n",
    "RightPeakFreq = (df * (-1 * (int(len(yf) / 2) * -1 + RightPeakID - int(len(yf) / 2)))) * -1\n",
    "print('The frequency of th left peak in the FFT results is:', LeftPeakFreq)\n",
    "print('The frequency of th right peak in the FFT results is:', RightPeakFreq)\n",
    "\n",
    "print('With the \\'fftshift\\' method:')\n",
    "xf = fftshift(xf)\n",
    "yf = fftshift(yf)\n",
    "LeftPeakID = np.argmax(yf[:int(len(yf) / 2)])\n",
    "LeftPeakFreq = xf[LeftPeakID]\n",
    "RightPeakID = int(len(yf) / 2) + np.argmax(yf[int(len(yf) / 2):])\n",
    "RightPeakFreq = xf[RightPeakID]\n",
    "print('The frequency of th left peak in the FFT results is:', LeftPeakFreq)\n",
    "print('The frequency of th right peak in the FFT results is:', RightPeakFreq)"
   ]
  },
  {
   "cell_type": "markdown",
   "metadata": {},
   "source": [
    "We can easily find that all the frequencies computed by different approaches are the same, so we verify that the peaks happened at the correct frequencies in Hz as expected."
   ]
  },
  {
   "cell_type": "markdown",
   "metadata": {},
   "source": [
    "### 10000Hz"
   ]
  },
  {
   "cell_type": "markdown",
   "metadata": {},
   "source": [
    "#### (i) Read “tone10000Hz.wav”. "
   ]
  },
  {
   "cell_type": "code",
   "execution_count": 29,
   "metadata": {},
   "outputs": [],
   "source": [
    "SampleRate, AudioData = wavfile.read('tone10000Hz.wav')"
   ]
  },
  {
   "cell_type": "markdown",
   "metadata": {},
   "source": [
    "#### (ii) Perform FFT on the audio signal."
   ]
  },
  {
   "cell_type": "code",
   "execution_count": 30,
   "metadata": {},
   "outputs": [],
   "source": [
    "AudioDataFFT = fft(AudioData)"
   ]
  },
  {
   "cell_type": "markdown",
   "metadata": {},
   "source": [
    "#### (iii) Plot the absolute value of the FFT results."
   ]
  },
  {
   "cell_type": "code",
   "execution_count": 31,
   "metadata": {},
   "outputs": [],
   "source": [
    "N = len(AudioDataFFT)\n",
    "yf = AudioDataFFT\n",
    "dt = 1 / SampleRate\n",
    "xf = fftfreq(N, dt)"
   ]
  },
  {
   "cell_type": "code",
   "execution_count": 32,
   "metadata": {
    "scrolled": true
   },
   "outputs": [
    {
     "data": {
      "image/png": "[encoded data removed]",
      "text/plain": [
       "<Figure size 432x288 with 1 Axes>"
      ]
     },
     "metadata": {
      "needs_background": "light"
     },
     "output_type": "display_data"
    }
   ],
   "source": [
    "plt.plot(xf, 2 / N * np.abs(yf))\n",
    "plt.title('The absolute value of the FFT results')\n",
    "plt.xlabel('Frequency (Hz)')\n",
    "plt.ylabel('Intensity')\n",
    "plt.show()"
   ]
  },
  {
   "cell_type": "markdown",
   "metadata": {},
   "source": [
    "#### (iv) Identify the index i.e. location of the two peaks in the FFT results from the figure plotted above."
   ]
  },
  {
   "cell_type": "code",
   "execution_count": 33,
   "metadata": {},
   "outputs": [
    {
     "name": "stdout",
     "output_type": "stream",
     "text": [
      "The index of th left peak in the FFT results is 50000 and its corresponding frequency is 10000.0\n",
      "The index of th right peak in the FFT results is 170500 and its corresponding frequency is -10000.0\n"
     ]
    }
   ],
   "source": [
    "LeftPeakID = np.argmax(yf[:int(len(yf)/2)])\n",
    "LeftPeakFreq = xf[LeftPeakID]\n",
    "RightPeakID = int(len(yf)/2) + np.argmax(yf[int(len(yf)/2):])\n",
    "RightPeakFreq = xf[RightPeakID]\n",
    "\n",
    "print('The index of th left peak in the FFT results is', LeftPeakID, 'and its corresponding frequency is', LeftPeakFreq)\n",
    "print('The index of th right peak in the FFT results is', RightPeakID, 'and its corresponding frequency is', RightPeakFreq)"
   ]
  },
  {
   "cell_type": "markdown",
   "metadata": {},
   "source": [
    "#### (v) Compute the frequency resolution."
   ]
  },
  {
   "cell_type": "code",
   "execution_count": 34,
   "metadata": {},
   "outputs": [
    {
     "name": "stdout",
     "output_type": "stream",
     "text": [
      "The frequency resolution is: 0.2\n"
     ]
    }
   ],
   "source": [
    "df = SampleRate / N\n",
    "print('The frequency resolution is:', df)"
   ]
  },
  {
   "cell_type": "markdown",
   "metadata": {},
   "source": [
    "#### (vi) Verify that the peaks happened at the correct frequencies in Hz as expected."
   ]
  },
  {
   "cell_type": "code",
   "execution_count": 35,
   "metadata": {
    "scrolled": true
   },
   "outputs": [
    {
     "name": "stdout",
     "output_type": "stream",
     "text": [
      "With the original FFT results:\n",
      "The frequency of th left peak in the FFT results is: 10000.0\n",
      "The frequency of th right peak in the FFT results is: -10000.0\n",
      "With the frequency resolution:\n",
      "The frequency of th left peak in the FFT results is: 10000.0\n",
      "The frequency of th right peak in the FFT results is: -10000.0\n",
      "With the 'fftshift' method:\n",
      "The frequency of th left peak in the FFT results is: -10000.0\n",
      "The frequency of th right peak in the FFT results is: 10000.0\n"
     ]
    }
   ],
   "source": [
    "print('With the original FFT results:')\n",
    "print('The frequency of th left peak in the FFT results is:', LeftPeakFreq)\n",
    "print('The frequency of th right peak in the FFT results is:', RightPeakFreq)\n",
    "\n",
    "print('With the frequency resolution:')\n",
    "LeftPeakFreq = df * LeftPeakID\n",
    "RightPeakFreq = (df * (-1 * (int(len(yf) / 2) * -1 + RightPeakID - int(len(yf) / 2)))) * -1\n",
    "print('The frequency of th left peak in the FFT results is:', LeftPeakFreq)\n",
    "print('The frequency of th right peak in the FFT results is:', RightPeakFreq)\n",
    "\n",
    "print('With the \\'fftshift\\' method:')\n",
    "xf = fftshift(xf)\n",
    "yf = fftshift(yf)\n",
    "LeftPeakID = np.argmax(yf[:int(len(yf) / 2)])\n",
    "LeftPeakFreq = xf[LeftPeakID]\n",
    "RightPeakID = int(len(yf) / 2) + np.argmax(yf[int(len(yf) / 2):])\n",
    "RightPeakFreq = xf[RightPeakID]\n",
    "print('The frequency of th left peak in the FFT results is:', LeftPeakFreq)\n",
    "print('The frequency of th right peak in the FFT results is:', RightPeakFreq)"
   ]
  },
  {
   "cell_type": "markdown",
   "metadata": {},
   "source": [
    "We can easily find that all the frequencies computed by different approaches are the same, so we verify that the peaks happened at the correct frequencies in Hz as expected."
   ]
  }
 ],
 "metadata": {
  "kernelspec": {
   "display_name": "Python 3",
   "language": "python",
   "name": "python3"
  },
  "language_info": {
   "codemirror_mode": {
    "name": "ipython",
    "version": 3
   },
   "file_extension": ".py",
   "mimetype": "text/x-python",
   "name": "python",
   "nbconvert_exporter": "python",
   "pygments_lexer": "ipython3",
   "version": "3.7.4"
  }
 },
 "nbformat": 4,
 "nbformat_minor": 2
}
