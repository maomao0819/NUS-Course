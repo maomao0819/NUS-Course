{
 "cells": [
  {
   "cell_type": "markdown",
   "metadata": {},
   "source": [
    "## import the library we need."
   ]
  },
  {
   "cell_type": "code",
   "execution_count": 1,
   "metadata": {},
   "outputs": [],
   "source": [
    "import numpy as np\n",
    "import pandas as pd"
   ]
  },
  {
   "cell_type": "markdown",
   "metadata": {},
   "source": [
    "# Q1 Figure 1 shows a graph of 12 nodes.\n",
    "# Write a python program to enable the following:"
   ]
  },
  {
   "cell_type": "markdown",
   "metadata": {},
   "source": [
    "<img src=\"Figure1.jpg\"> "
   ]
  },
  {
   "cell_type": "markdown",
   "metadata": {},
   "source": [
    "## (a) Find out how many connected clusters of nodes are there. You can comment based on the eigen-decomposition results i.e. no need to write code in interpreting the eigen-decomposition results."
   ]
  },
  {
   "cell_type": "code",
   "execution_count": 2,
   "metadata": {},
   "outputs": [],
   "source": [
    "Graph1 = {\n",
    "    'A': ['I', 'K'],\n",
    "    'B': ['C', 'E', 'G'],\n",
    "    'C': ['B', 'D'],\n",
    "    'D': ['C', 'E'],\n",
    "    'E': ['B', 'D'],\n",
    "    'F': ['G', 'J'],\n",
    "    'G': ['B', 'F', 'H'],\n",
    "    'H': ['G'],\n",
    "    'I': ['A', 'K'],\n",
    "    'J': ['F', 'K', 'L'],\n",
    "    'K': ['A', 'I', 'J'],\n",
    "    'L': ['J'],\n",
    "}"
   ]
  },
  {
   "cell_type": "code",
   "execution_count": 3,
   "metadata": {},
   "outputs": [],
   "source": [
    "def GenerateAdjacencyMatrix(graph):\n",
    "    nodes = list(graph.keys())\n",
    "    n_nodes = len(nodes)\n",
    "    AdjacencyMatrix = np.zeros((n_nodes, n_nodes))\n",
    "    for node1_id in range(n_nodes):\n",
    "        for node2_id in range(n_nodes):\n",
    "            if nodes[node2_id] in graph[nodes[node1_id]]:\n",
    "                AdjacencyMatrix[node1_id][node2_id] = 1\n",
    "    return AdjacencyMatrix\n",
    "\n",
    "def GenerateAdjacencyMatrix2(graph):\n",
    "    nodes = list(graph.keys())\n",
    "    n_nodes = len(nodes)\n",
    "    AdjacencyMatrix = np.zeros((n_nodes, n_nodes))\n",
    "    for node1_id in range(n_nodes):\n",
    "        for node2 in graph[nodes[node1_id]]:\n",
    "            node2_id = nodes.index(node2)\n",
    "            node2_id = ord(node2) - ord('A')\n",
    "            AdjacencyMatrix[node1_id][node2_id] = 1\n",
    "    return AdjacencyMatrix"
   ]
  },
  {
   "cell_type": "code",
   "execution_count": 4,
   "metadata": {},
   "outputs": [],
   "source": [
    "def GenerateDegreeMatrix(AdjacencyMatrix):\n",
    "    return np.diag(np.sum(AdjacencyMatrix, axis=0))"
   ]
  },
  {
   "cell_type": "code",
   "execution_count": 5,
   "metadata": {},
   "outputs": [],
   "source": [
    "def GenerateGraphLaplacian(DegreeMatrix, AdjacencyMatrix):\n",
    "    return DegreeMatrix - AdjacencyMatrix"
   ]
  },
  {
   "cell_type": "code",
   "execution_count": 6,
   "metadata": {},
   "outputs": [],
   "source": [
    "def Decomposition(matrix):\n",
    "    eigenvalue, eigenvector = np.linalg.eig(matrix)\n",
    "    eigenvalue_ascend_id = np.argsort(eigenvalue)\n",
    "    eigenvalue_ascend = np.round(eigenvalue[eigenvalue_ascend_id], 4)\n",
    "    eigenvector_ascend = np.round(eigenvector.T[eigenvalue_ascend_id], 4)\n",
    "    return np.diag(eigenvalue_ascend), eigenvector_ascend"
   ]
  },
  {
   "cell_type": "code",
   "execution_count": 7,
   "metadata": {},
   "outputs": [],
   "source": [
    "def GraphClusterDecomposition(graph):\n",
    "    AdjacencyMatrix = GenerateAdjacencyMatrix(graph)\n",
    "    DegreeMatrix = GenerateDegreeMatrix(AdjacencyMatrix)\n",
    "    GraphLaplacian = GenerateGraphLaplacian(DegreeMatrix, AdjacencyMatrix)\n",
    "    eigenvalue, eigenvector = Decomposition(GraphLaplacian)\n",
    "    return eigenvalue, eigenvector"
   ]
  },
  {
   "cell_type": "code",
   "execution_count": 8,
   "metadata": {},
   "outputs": [],
   "source": [
    "def n_cluster(eigenvalue):\n",
    "    if np.ndim(eigenvalue) == 1:\n",
    "        return np.count_nonzero(eigenvalue == 0)\n",
    "    elif np.ndim(eigenvalue) == 2:\n",
    "        return np.count_nonzero(np.diag(eigenvalue) == 0)"
   ]
  },
  {
   "cell_type": "code",
   "execution_count": 9,
   "metadata": {},
   "outputs": [
    {
     "name": "stdout",
     "output_type": "stream",
     "text": [
      "The eigenvalue matrix:\n",
      "     A      B       C       D       E    F       G    H    I       J       K  \\\n",
      "A -0.0  0.000  0.0000  0.0000  0.0000  0.0  0.0000  0.0  0.0  0.0000  0.0000   \n",
      "B  0.0  0.111  0.0000  0.0000  0.0000  0.0  0.0000  0.0  0.0  0.0000  0.0000   \n",
      "C  0.0  0.000  0.4384  0.0000  0.0000  0.0  0.0000  0.0  0.0  0.0000  0.0000   \n",
      "D  0.0  0.000  0.0000  0.6125  0.0000  0.0  0.0000  0.0  0.0  0.0000  0.0000   \n",
      "E  0.0  0.000  0.0000  0.0000  1.4361  0.0  0.0000  0.0  0.0  0.0000  0.0000   \n",
      "F  0.0  0.000  0.0000  0.0000  0.0000  2.0  0.0000  0.0  0.0  0.0000  0.0000   \n",
      "G  0.0  0.000  0.0000  0.0000  0.0000  0.0  2.2791  0.0  0.0  0.0000  0.0000   \n",
      "H  0.0  0.000  0.0000  0.0000  0.0000  0.0  0.0000  3.0  0.0  0.0000  0.0000   \n",
      "I  0.0  0.000  0.0000  0.0000  0.0000  0.0  0.0000  0.0  3.0  0.0000  0.0000   \n",
      "J  0.0  0.000  0.0000  0.0000  0.0000  0.0  0.0000  0.0  0.0  3.6856  0.0000   \n",
      "K  0.0  0.000  0.0000  0.0000  0.0000  0.0  0.0000  0.0  0.0  0.0000  4.5616   \n",
      "L  0.0  0.000  0.0000  0.0000  0.0000  0.0  0.0000  0.0  0.0  0.0000  0.0000   \n",
      "\n",
      "        L  \n",
      "A  0.0000  \n",
      "B  0.0000  \n",
      "C  0.0000  \n",
      "D  0.0000  \n",
      "E  0.0000  \n",
      "F  0.0000  \n",
      "G  0.0000  \n",
      "H  0.0000  \n",
      "I  0.0000  \n",
      "J  0.0000  \n",
      "K  0.0000  \n",
      "L  4.8756  \n",
      "\n",
      "There is 1 connected cluster of nodes in Figure 1.\n"
     ]
    }
   ],
   "source": [
    "eigenvalue1, eigenvector1 = GraphClusterDecomposition(Graph1)\n",
    "n_cluster1 = n_cluster(eigenvalue1)\n",
    "print('The eigenvalue matrix:')\n",
    "print(pd.DataFrame(eigenvalue1, index=Graph1.keys(), columns=Graph1.keys()))\n",
    "print()\n",
    "print(f'There is {n_cluster1} connected cluster of nodes in Figure 1.')"
   ]
  },
  {
   "cell_type": "markdown",
   "metadata": {},
   "source": [
    "There is 1 connected cluster of nodes in Figure 1 because there is one zero entry along the diagonal of the eigenvalue matrix."
   ]
  },
  {
   "cell_type": "markdown",
   "metadata": {},
   "source": [
    "## (b) For each cluster, list the nodes within that cluster. You can comment based on the eigen-decomposition results i.e. no need to write code in interpreting the eigen-decomposition results."
   ]
  },
  {
   "cell_type": "code",
   "execution_count": 10,
   "metadata": {},
   "outputs": [],
   "source": [
    "def PrintNodesWithinCluster(n_cluster, eigenvector, NodesName):\n",
    "    print('The eigenvectors:')\n",
    "    print(pd.DataFrame(eigenvector.T, index=NodesName, columns=NodesName))\n",
    "    for eigenvectorId in range(n_cluster):\n",
    "        ClusterValue = set(eigenvector[eigenvectorId])\n",
    "        if len(ClusterValue) == n_cluster:\n",
    "            ClusterIds = []\n",
    "            for value in ClusterValue:\n",
    "                ClusterIds.append(list(np.where(eigenvector[0] == value)[0]))\n",
    "            id = 1\n",
    "            print()\n",
    "            for ClusterId in ClusterIds:\n",
    "                print(f'The nodes in cluster {id} are:', np.array(list(NodesName))[ClusterId])\n",
    "                id += 1\n",
    "            return"
   ]
  },
  {
   "cell_type": "code",
   "execution_count": 11,
   "metadata": {
    "scrolled": true
   },
   "outputs": [
    {
     "name": "stdout",
     "output_type": "stream",
     "text": [
      "The eigenvectors:\n",
      "        A       B       C       D       E       F       G       H       I  \\\n",
      "A -0.2887 -0.3827 -0.3006  0.2436 -0.0702 -0.0000  0.0682 -0.0563 -0.7528   \n",
      "B -0.2887  0.2824 -0.0659  0.0051  0.0913 -0.0000  0.6006  0.1242  0.0443   \n",
      "C -0.2887  0.3402 -0.2347 -0.0944 -0.0306 -0.7071  0.0872  0.1242  0.0443   \n",
      "D -0.2887  0.3602 -0.3006 -0.1361 -0.1086  0.0000 -0.6249 -0.2485 -0.0886   \n",
      "E -0.2887  0.3402 -0.2347 -0.0944 -0.0306  0.7071  0.0872  0.1242  0.0443   \n",
      "F -0.2887 -0.0434  0.3006 -0.0439  0.6959  0.0000 -0.2122 -0.2485 -0.0886   \n",
      "G -0.2887  0.1355  0.3006  0.2009  0.2041 -0.0000  0.2585 -0.2485 -0.0886   \n",
      "H -0.2887  0.1524  0.5352  0.5185 -0.4681  0.0000 -0.2021  0.1242  0.0443   \n",
      "I -0.2887 -0.3827 -0.3006  0.2436 -0.0702 -0.0000  0.0682 -0.4407  0.5756   \n",
      "J -0.2887 -0.2174  0.1688 -0.2618  0.1884  0.0000 -0.1993  0.4970  0.1771   \n",
      "K -0.2887 -0.3402 -0.1688  0.0944  0.0306  0.0000 -0.0872  0.4970  0.1771   \n",
      "L -0.2887 -0.2446  0.3006 -0.6756 -0.4320 -0.0000  0.1558 -0.2485 -0.0886   \n",
      "\n",
      "        J       K       L  \n",
      "A  0.1234 -0.1583 -0.0636  \n",
      "B -0.1654 -0.3609  0.5378  \n",
      "C  0.3314  0.2027 -0.2467  \n",
      "D -0.3932 -0.1583  0.1716  \n",
      "E  0.3314  0.2027 -0.2467  \n",
      "F  0.3375  0.1583  0.2958  \n",
      "G -0.5494  0.1583 -0.5153  \n",
      "H  0.2046 -0.0444  0.1330  \n",
      "I  0.1234 -0.1583 -0.0636  \n",
      "J -0.0196 -0.5636 -0.3354  \n",
      "K -0.3314  0.5636  0.2467  \n",
      "L  0.0073  0.1583  0.0865  \n",
      "\n",
      "The nodes in cluster 1 are: ['A' 'B' 'C' 'D' 'E' 'F' 'G' 'H' 'I' 'J' 'K' 'L']\n"
     ]
    }
   ],
   "source": [
    "PrintNodesWithinCluster(n_cluster1, eigenvector1, Graph1.keys())"
   ]
  },
  {
   "cell_type": "markdown",
   "metadata": {},
   "source": [
    "Based on the observation on the first eigenvector, the nodes in cluster 1 are: A, B, C, D, E, F, G, H, I, J, K, L"
   ]
  },
  {
   "cell_type": "markdown",
   "metadata": {},
   "source": [
    "# Q2. Repeat all the steps in Q1 for the graph shown in Figure 2."
   ]
  },
  {
   "cell_type": "markdown",
   "metadata": {},
   "source": [
    "<img src=\"Figure2.jpg\"> "
   ]
  },
  {
   "cell_type": "code",
   "execution_count": 12,
   "metadata": {},
   "outputs": [],
   "source": [
    "Graph2 = {\n",
    "    'A': ['I', 'K'],\n",
    "    'B': ['C', 'E', 'G'],\n",
    "    'C': ['B', 'D'],\n",
    "    'D': ['C', 'E'],\n",
    "    'E': ['B', 'D'],\n",
    "    'F': ['J'],\n",
    "    'G': ['B', 'H'],\n",
    "    'H': ['G'],\n",
    "    'I': ['A', 'K'],\n",
    "    'J': ['F', 'K', 'L'],\n",
    "    'K': ['A', 'I', 'J'],\n",
    "    'L': ['J'],\n",
    "}"
   ]
  },
  {
   "cell_type": "markdown",
   "metadata": {},
   "source": [
    "## (a)"
   ]
  },
  {
   "cell_type": "code",
   "execution_count": 13,
   "metadata": {
    "scrolled": true
   },
   "outputs": [
    {
     "name": "stdout",
     "output_type": "stream",
     "text": [
      "The eigenvalue matrix:\n",
      "     A    B       C       D    E    F    G    H    I    J       K       L\n",
      "A  0.0  0.0  0.0000  0.0000  0.0  0.0  0.0  0.0  0.0  0.0  0.0000  0.0000\n",
      "B  0.0  0.0  0.0000  0.0000  0.0  0.0  0.0  0.0  0.0  0.0  0.0000  0.0000\n",
      "C  0.0  0.0  0.4384  0.0000  0.0  0.0  0.0  0.0  0.0  0.0  0.0000  0.0000\n",
      "D  0.0  0.0  0.0000  0.4384  0.0  0.0  0.0  0.0  0.0  0.0  0.0000  0.0000\n",
      "E  0.0  0.0  0.0000  0.0000  1.0  0.0  0.0  0.0  0.0  0.0  0.0000  0.0000\n",
      "F  0.0  0.0  0.0000  0.0000  0.0  2.0  0.0  0.0  0.0  0.0  0.0000  0.0000\n",
      "G  0.0  0.0  0.0000  0.0000  0.0  0.0  2.0  0.0  0.0  0.0  0.0000  0.0000\n",
      "H  0.0  0.0  0.0000  0.0000  0.0  0.0  0.0  3.0  0.0  0.0  0.0000  0.0000\n",
      "I  0.0  0.0  0.0000  0.0000  0.0  0.0  0.0  0.0  3.0  0.0  0.0000  0.0000\n",
      "J  0.0  0.0  0.0000  0.0000  0.0  0.0  0.0  0.0  0.0  3.0  0.0000  0.0000\n",
      "K  0.0  0.0  0.0000  0.0000  0.0  0.0  0.0  0.0  0.0  0.0  4.5616  0.0000\n",
      "L  0.0  0.0  0.0000  0.0000  0.0  0.0  0.0  0.0  0.0  0.0  0.0000  4.5616\n",
      "\n",
      "There are 2 connected clusters of nodes in Figure 2.\n"
     ]
    }
   ],
   "source": [
    "eigenvalue2, eigenvector2 = GraphClusterDecomposition(Graph2)\n",
    "n_cluster2 = n_cluster(eigenvalue2)\n",
    "print('The eigenvalue matrix:')\n",
    "print(pd.DataFrame(eigenvalue2, index=Graph1.keys(), columns=Graph1.keys()))\n",
    "print()\n",
    "print(f'There are {n_cluster2} connected clusters of nodes in Figure 2.')"
   ]
  },
  {
   "cell_type": "markdown",
   "metadata": {},
   "source": [
    "There are 2 connected clusters of nodes in Figure 2 because there are two zero entries along the diagonal of the eigenvalue matrix."
   ]
  },
  {
   "cell_type": "markdown",
   "metadata": {},
   "source": [
    "## (b)"
   ]
  },
  {
   "cell_type": "code",
   "execution_count": 14,
   "metadata": {
    "scrolled": true
   },
   "outputs": [
    {
     "name": "stdout",
     "output_type": "stream",
     "text": [
      "The eigenvectors:\n",
      "        A       B       C       D       E       F       G       H       I  \\\n",
      "A -0.3942  0.4082 -0.4647 -0.0982 -0.0000 -0.0000  0.0000  0.0028  0.0626   \n",
      "B -0.1063 -0.0000 -0.0000 -0.0844  0.0000  0.3085  0.3734  0.2148  0.1955   \n",
      "C -0.1063 -0.0000 -0.0000 -0.3008 -0.0000 -0.5564  0.4703  0.2148  0.1955   \n",
      "D -0.1063 -0.0000 -0.0000 -0.3852  0.0000 -0.3085 -0.3734 -0.4295 -0.3910   \n",
      "E -0.1063 -0.0000 -0.0000 -0.3008  0.0000  0.5564 -0.4703  0.2148  0.1955   \n",
      "F -0.3942  0.4082  0.4647  0.0982 -0.7071  0.0000 -0.0000 -0.1782  0.2043   \n",
      "G -0.1063 -0.0000 -0.0000  0.3852  0.0000  0.3085  0.3734 -0.4295 -0.3910   \n",
      "H -0.1063 -0.0000 -0.0000  0.6860 -0.0000 -0.3085 -0.3734  0.2148  0.1955   \n",
      "I -0.3942  0.4082 -0.4647 -0.0982  0.0000 -0.0000 -0.0000 -0.3592  0.3460   \n",
      "J -0.3942  0.4082  0.2610  0.0551  0.0000  0.0000  0.0000  0.3564 -0.4087   \n",
      "K -0.3942  0.4082 -0.2610 -0.0551 -0.0000  0.0000  0.0000  0.3564 -0.4087   \n",
      "L -0.3942  0.4082  0.4647  0.0982  0.7071 -0.0000 -0.0000 -0.1782  0.2043   \n",
      "\n",
      "        J       K       L  \n",
      "A  0.7638  0.1845 -0.0162  \n",
      "B -0.0000 -0.0000  0.6991  \n",
      "C -0.0000  0.0000 -0.3926  \n",
      "D -0.0000 -0.0000  0.3065  \n",
      "E  0.0000  0.0000 -0.3926  \n",
      "F  0.1091 -0.1845  0.0162  \n",
      "G  0.0000  0.0000 -0.3065  \n",
      "H -0.0000 -0.0000  0.0861  \n",
      "I -0.5455  0.1845 -0.0162  \n",
      "J -0.2182  0.6572 -0.0578  \n",
      "K -0.2182 -0.6572  0.0578  \n",
      "L  0.1091 -0.1845  0.0162  \n",
      "\n",
      "The nodes in cluster 1 are: ['A' 'F' 'I' 'J' 'K' 'L']\n",
      "The nodes in cluster 2 are: ['B' 'C' 'D' 'E' 'G' 'H']\n"
     ]
    }
   ],
   "source": [
    "PrintNodesWithinCluster(n_cluster2, eigenvector2, Graph2.keys())"
   ]
  },
  {
   "cell_type": "markdown",
   "metadata": {},
   "source": [
    "Based on the observation on the first two eigenvectors, the nodes in cluster 1 are A, F, I, J, K, L and the nodes in cluster 2 are B, C, D, E, G, H."
   ]
  },
  {
   "cell_type": "markdown",
   "metadata": {},
   "source": [
    "# Q3. Repeat all the steps in Q1 for the graph shown in Figure 3."
   ]
  },
  {
   "cell_type": "markdown",
   "metadata": {},
   "source": [
    "<img src=\"Figure3.jpg\"> "
   ]
  },
  {
   "cell_type": "code",
   "execution_count": 15,
   "metadata": {},
   "outputs": [],
   "source": [
    "Graph3 = {\n",
    "    'A': ['I', 'K'],\n",
    "    'B': ['C', 'E', 'G'],\n",
    "    'C': ['B', 'D'],\n",
    "    'D': ['C', 'E'],\n",
    "    'E': ['B', 'D'],\n",
    "    'F': ['J'],\n",
    "    'G': ['B', 'H'],\n",
    "    'H': ['G'],\n",
    "    'I': ['A', 'K'],\n",
    "    'J': ['F', 'L'],\n",
    "    'K': ['A', 'I'],\n",
    "    'L': ['J'],\n",
    "}"
   ]
  },
  {
   "cell_type": "markdown",
   "metadata": {},
   "source": [
    "## (a)"
   ]
  },
  {
   "cell_type": "code",
   "execution_count": 16,
   "metadata": {},
   "outputs": [
    {
     "name": "stdout",
     "output_type": "stream",
     "text": [
      "The eigenvalue matrix:\n",
      "     A    B    C       D    E    F    G    H    I    J    K       L\n",
      "A -0.0  0.0  0.0  0.0000  0.0  0.0  0.0  0.0  0.0  0.0  0.0  0.0000\n",
      "B  0.0 -0.0  0.0  0.0000  0.0  0.0  0.0  0.0  0.0  0.0  0.0  0.0000\n",
      "C  0.0  0.0  0.0  0.0000  0.0  0.0  0.0  0.0  0.0  0.0  0.0  0.0000\n",
      "D  0.0  0.0  0.0  0.4384  0.0  0.0  0.0  0.0  0.0  0.0  0.0  0.0000\n",
      "E  0.0  0.0  0.0  0.0000  1.0  0.0  0.0  0.0  0.0  0.0  0.0  0.0000\n",
      "F  0.0  0.0  0.0  0.0000  0.0  2.0  0.0  0.0  0.0  0.0  0.0  0.0000\n",
      "G  0.0  0.0  0.0  0.0000  0.0  0.0  2.0  0.0  0.0  0.0  0.0  0.0000\n",
      "H  0.0  0.0  0.0  0.0000  0.0  0.0  0.0  3.0  0.0  0.0  0.0  0.0000\n",
      "I  0.0  0.0  0.0  0.0000  0.0  0.0  0.0  0.0  3.0  0.0  0.0  0.0000\n",
      "J  0.0  0.0  0.0  0.0000  0.0  0.0  0.0  0.0  0.0  3.0  0.0  0.0000\n",
      "K  0.0  0.0  0.0  0.0000  0.0  0.0  0.0  0.0  0.0  0.0  3.0  0.0000\n",
      "L  0.0  0.0  0.0  0.0000  0.0  0.0  0.0  0.0  0.0  0.0  0.0  4.5616\n",
      "\n",
      "There are 3 connected clusters of nodes in Figure 3.\n"
     ]
    }
   ],
   "source": [
    "eigenvalue3, eigenvector3 = GraphClusterDecomposition(Graph3)\n",
    "n_cluster3 = n_cluster(eigenvalue3)\n",
    "print('The eigenvalue matrix:')\n",
    "print(pd.DataFrame(eigenvalue3, index=Graph1.keys(), columns=Graph1.keys()))\n",
    "print()\n",
    "print(f'There are {n_cluster3} connected clusters of nodes in Figure 3.')"
   ]
  },
  {
   "cell_type": "markdown",
   "metadata": {},
   "source": [
    "There are 3 connected clusters of nodes in Figure 2 because there are three zero entries along the diagonal of the eigenvalue matrix."
   ]
  },
  {
   "cell_type": "markdown",
   "metadata": {},
   "source": [
    "## (b)"
   ]
  },
  {
   "cell_type": "code",
   "execution_count": 17,
   "metadata": {
    "scrolled": true
   },
   "outputs": [
    {
     "name": "stdout",
     "output_type": "stream",
     "text": [
      "The eigenvectors:\n",
      "        A       B       C       D       E       F    G       H       I  \\\n",
      "A  0.5164  0.5774 -0.0132  0.0000 -0.0000 -0.0000 -0.0 -0.0028  0.0727   \n",
      "B  0.1819  0.0000  0.0162 -0.0864 -0.0000  0.0729  0.5 -0.2887  0.0113   \n",
      "C  0.1819  0.0000  0.0162 -0.3077 -0.0000 -0.6996  0.0 -0.2887  0.0113   \n",
      "D  0.1819  0.0000  0.0162 -0.3941 -0.0000 -0.0729 -0.5  0.5773 -0.0225   \n",
      "E  0.1819  0.0000  0.0162 -0.3077 -0.0000  0.6996  0.0 -0.2887  0.0113   \n",
      "F  0.0230  0.0000  0.5767 -0.0000  0.7071  0.0000  0.0  0.0000 -0.1989   \n",
      "G  0.1819  0.0000  0.0162  0.3941  0.0000  0.0729  0.5  0.5773 -0.0225   \n",
      "H  0.1819  0.0000  0.0162  0.7018  0.0000 -0.0729 -0.5 -0.2887  0.0113   \n",
      "I  0.5164  0.5774 -0.0132  0.0000 -0.0000 -0.0000 -0.0  0.0014  0.5773   \n",
      "J  0.0230  0.0000  0.5767 -0.0000  0.0000 -0.0000  0.0  0.0000  0.3978   \n",
      "K  0.5164  0.5774 -0.0132  0.0000  0.0000  0.0000  0.0  0.0014 -0.6500   \n",
      "L  0.0230  0.0000  0.5767 -0.0000 -0.7071 -0.0000  0.0  0.0000 -0.1989   \n",
      "\n",
      "        J       K       L  \n",
      "A  0.8165  0.1403  0.0000  \n",
      "B  0.0000 -0.0018 -0.7018  \n",
      "C  0.0000 -0.0018  0.3941  \n",
      "D  0.0000  0.0037 -0.3077  \n",
      "E  0.0000 -0.0018  0.3941  \n",
      "F  0.0000  0.3084 -0.0000  \n",
      "G  0.0000  0.0037  0.3077  \n",
      "H  0.0000 -0.0018 -0.0864  \n",
      "I -0.4082  0.3769 -0.0000  \n",
      "J  0.0000 -0.6168 -0.0000  \n",
      "K -0.4082 -0.5173 -0.0000  \n",
      "L  0.0000  0.3084 -0.0000  \n",
      "\n",
      "The nodes in cluster 1 are: ['A' 'I' 'K']\n",
      "The nodes in cluster 2 are: ['B' 'C' 'D' 'E' 'G' 'H']\n",
      "The nodes in cluster 3 are: ['F' 'J' 'L']\n"
     ]
    }
   ],
   "source": [
    "PrintNodesWithinCluster(n_cluster3, eigenvector3, Graph3.keys())"
   ]
  },
  {
   "cell_type": "markdown",
   "metadata": {},
   "source": [
    "Based on the observation on the first three eigenvectors, the nodes in cluster 1 are A, I, K, the nodes in cluster 2 are B, C, D, E, G, H, and the nodes in cluster 3 are F, J, L."
   ]
  },
  {
   "cell_type": "markdown",
   "metadata": {},
   "source": [
    "**Reference**\n",
    "* diagonal: https://numpy.org/doc/stable/reference/generated/numpy.diag.html\n",
    "* round: https://stackoverflow.com/questions/455612/limiting-floats-to-two-decimal-points\n",
    "* numpy dimension: https://note.nkmk.me/en/python-numpy-ndarray-ndim-shape-size/\n",
    "* numpy count zero: https://stackoverflow.com/questions/42916330/efficiently-count-zero-elements-in-numpy-array\n",
    "* jupyter images: https://stackoverflow.com/questions/47843222/unable-to-get-image-to-render-in-jupyter-markdown-cell\n",
    "* find all occurrences of an element in a list: https://stackoverflow.com/questions/6294179/how-to-find-all-occurrences-of-an-element-in-a-list\n",
    "* access multiple indices of a list: https://www.kite.com/python/answers/how-to-access-multiple-indices-of-a-list-in-python\n",
    "* numpy decomposition: https://numpy.org/doc/stable/reference/generated/numpy.linalg.eig.html"
   ]
  }
 ],
 "metadata": {
  "kernelspec": {
   "display_name": "Python 3",
   "language": "python",
   "name": "python3"
  },
  "language_info": {
   "codemirror_mode": {
    "name": "ipython",
    "version": 3
   },
   "file_extension": ".py",
   "mimetype": "text/x-python",
   "name": "python",
   "nbconvert_exporter": "python",
   "pygments_lexer": "ipython3",
   "version": "3.7.4"
  }
 },
 "nbformat": 4,
 "nbformat_minor": 2
}
