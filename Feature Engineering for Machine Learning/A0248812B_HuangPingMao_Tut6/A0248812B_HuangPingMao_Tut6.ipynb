{
 "cells": [
  {
   "cell_type": "markdown",
   "metadata": {},
   "source": [
    "## import the library we need."
   ]
  },
  {
   "cell_type": "code",
   "execution_count": 1,
   "metadata": {},
   "outputs": [],
   "source": [
    "import numpy as np"
   ]
  },
  {
   "cell_type": "markdown",
   "metadata": {},
   "source": [
    "<img src=\"graph.jpg\"> "
   ]
  },
  {
   "cell_type": "code",
   "execution_count": 2,
   "metadata": {},
   "outputs": [],
   "source": [
    "graph = {\n",
    "    'A': ['B', 'C', 'D', 'E'],\n",
    "    'B': ['A', 'F'],\n",
    "    'C': ['A', 'G'],\n",
    "    'D': ['A', 'H'],\n",
    "    'E': ['A', 'I'],\n",
    "    'F': ['B'],\n",
    "    'G': ['C', 'J'],\n",
    "    'H': ['D', 'K'],\n",
    "    'I': ['E', 'L'],\n",
    "    'J': ['G'],\n",
    "    'K': ['H'],\n",
    "    'L': ['I'],\n",
    "}"
   ]
  },
  {
   "cell_type": "markdown",
   "metadata": {},
   "source": [
    "# (A) Form the adjacency matrix A"
   ]
  },
  {
   "cell_type": "code",
   "execution_count": 3,
   "metadata": {},
   "outputs": [],
   "source": [
    "def GenerateAdjacencyMatrix(graph):\n",
    "    nodes = list(graph.keys())\n",
    "    n_nodes = len(nodes)\n",
    "    AdjacencyMatrix = np.zeros((n_nodes, n_nodes))\n",
    "    for node1_id in range(n_nodes):\n",
    "        for node2_id in range(n_nodes):\n",
    "            if nodes[node2_id] in graph[nodes[node1_id]]:\n",
    "                AdjacencyMatrix[node1_id][node2_id] = 1\n",
    "    return AdjacencyMatrix\n",
    "\n",
    "def GenerateAdjacencyMatrix2(graph):\n",
    "    nodes = list(graph.keys())\n",
    "    n_nodes = len(nodes)\n",
    "    AdjacencyMatrix = np.zeros((n_nodes, n_nodes))\n",
    "    for node1_id in range(n_nodes):\n",
    "        for node2 in graph[nodes[node1_id]]:\n",
    "            node2_id = nodes.index(node2)\n",
    "            node2_id = ord(node2) - ord('A')\n",
    "            AdjacencyMatrix[node1_id][node2_id] = 1\n",
    "    return AdjacencyMatrix"
   ]
  },
  {
   "cell_type": "code",
   "execution_count": 4,
   "metadata": {},
   "outputs": [
    {
     "name": "stdout",
     "output_type": "stream",
     "text": [
      "The adjacency matrix A:\n",
      "[[0. 1. 1. 1. 1. 0. 0. 0. 0. 0. 0. 0.]\n",
      " [1. 0. 0. 0. 0. 1. 0. 0. 0. 0. 0. 0.]\n",
      " [1. 0. 0. 0. 0. 0. 1. 0. 0. 0. 0. 0.]\n",
      " [1. 0. 0. 0. 0. 0. 0. 1. 0. 0. 0. 0.]\n",
      " [1. 0. 0. 0. 0. 0. 0. 0. 1. 0. 0. 0.]\n",
      " [0. 1. 0. 0. 0. 0. 0. 0. 0. 0. 0. 0.]\n",
      " [0. 0. 1. 0. 0. 0. 0. 0. 0. 1. 0. 0.]\n",
      " [0. 0. 0. 1. 0. 0. 0. 0. 0. 0. 1. 0.]\n",
      " [0. 0. 0. 0. 1. 0. 0. 0. 0. 0. 0. 1.]\n",
      " [0. 0. 0. 0. 0. 0. 1. 0. 0. 0. 0. 0.]\n",
      " [0. 0. 0. 0. 0. 0. 0. 1. 0. 0. 0. 0.]\n",
      " [0. 0. 0. 0. 0. 0. 0. 0. 1. 0. 0. 0.]]\n"
     ]
    }
   ],
   "source": [
    "A = GenerateAdjacencyMatrix(graph)\n",
    "print('The adjacency matrix A:')\n",
    "print(A)"
   ]
  },
  {
   "cell_type": "markdown",
   "metadata": {},
   "source": [
    "# (B) Form the degree matrix D"
   ]
  },
  {
   "cell_type": "code",
   "execution_count": 5,
   "metadata": {},
   "outputs": [],
   "source": [
    "def GenerateDegreeMatrix(AdjacencyMatrix):\n",
    "    return np.diag(np.sum(AdjacencyMatrix, axis=0))"
   ]
  },
  {
   "cell_type": "code",
   "execution_count": 6,
   "metadata": {},
   "outputs": [
    {
     "name": "stdout",
     "output_type": "stream",
     "text": [
      "The degree matrix D:\n",
      "[[4. 0. 0. 0. 0. 0. 0. 0. 0. 0. 0. 0.]\n",
      " [0. 2. 0. 0. 0. 0. 0. 0. 0. 0. 0. 0.]\n",
      " [0. 0. 2. 0. 0. 0. 0. 0. 0. 0. 0. 0.]\n",
      " [0. 0. 0. 2. 0. 0. 0. 0. 0. 0. 0. 0.]\n",
      " [0. 0. 0. 0. 2. 0. 0. 0. 0. 0. 0. 0.]\n",
      " [0. 0. 0. 0. 0. 1. 0. 0. 0. 0. 0. 0.]\n",
      " [0. 0. 0. 0. 0. 0. 2. 0. 0. 0. 0. 0.]\n",
      " [0. 0. 0. 0. 0. 0. 0. 2. 0. 0. 0. 0.]\n",
      " [0. 0. 0. 0. 0. 0. 0. 0. 2. 0. 0. 0.]\n",
      " [0. 0. 0. 0. 0. 0. 0. 0. 0. 1. 0. 0.]\n",
      " [0. 0. 0. 0. 0. 0. 0. 0. 0. 0. 1. 0.]\n",
      " [0. 0. 0. 0. 0. 0. 0. 0. 0. 0. 0. 1.]]\n"
     ]
    }
   ],
   "source": [
    "D = GenerateDegreeMatrix(A)\n",
    "print('The degree matrix D:')\n",
    "print(D)"
   ]
  },
  {
   "cell_type": "markdown",
   "metadata": {},
   "source": [
    "# (C) From the Laplacian matrix ℒ = D − A"
   ]
  },
  {
   "cell_type": "code",
   "execution_count": 7,
   "metadata": {},
   "outputs": [],
   "source": [
    "def GenerateGraphLaplacian(DegreeMatrix, AdjacencyMatrix):\n",
    "    return DegreeMatrix - AdjacencyMatrix"
   ]
  },
  {
   "cell_type": "code",
   "execution_count": 8,
   "metadata": {},
   "outputs": [
    {
     "name": "stdout",
     "output_type": "stream",
     "text": [
      "The Laplacian matrix ℒ:\n",
      "[[ 4. -1. -1. -1. -1.  0.  0.  0.  0.  0.  0.  0.]\n",
      " [-1.  2.  0.  0.  0. -1.  0.  0.  0.  0.  0.  0.]\n",
      " [-1.  0.  2.  0.  0.  0. -1.  0.  0.  0.  0.  0.]\n",
      " [-1.  0.  0.  2.  0.  0.  0. -1.  0.  0.  0.  0.]\n",
      " [-1.  0.  0.  0.  2.  0.  0.  0. -1.  0.  0.  0.]\n",
      " [ 0. -1.  0.  0.  0.  1.  0.  0.  0.  0.  0.  0.]\n",
      " [ 0.  0. -1.  0.  0.  0.  2.  0.  0. -1.  0.  0.]\n",
      " [ 0.  0.  0. -1.  0.  0.  0.  2.  0.  0. -1.  0.]\n",
      " [ 0.  0.  0.  0. -1.  0.  0.  0.  2.  0.  0. -1.]\n",
      " [ 0.  0.  0.  0.  0.  0. -1.  0.  0.  1.  0.  0.]\n",
      " [ 0.  0.  0.  0.  0.  0.  0. -1.  0.  0.  1.  0.]\n",
      " [ 0.  0.  0.  0.  0.  0.  0.  0. -1.  0.  0.  1.]]\n"
     ]
    }
   ],
   "source": [
    "ℒ = GenerateGraphLaplacian(D, A)\n",
    "print('The Laplacian matrix ℒ:')\n",
    "print(ℒ)"
   ]
  },
  {
   "cell_type": "markdown",
   "metadata": {},
   "source": [
    "# (D) If the initial values of the nodes are\n",
    "# x = {A, B, C, D, E, F, G, H, I, J, K, L} = {1,0,0,0,0,0,0,0,0,0,0,0}\n",
    "# Compute ℒ ∗ x, ℒ ∗ ℒ ∗ x, ℒ ∗ ℒ ∗ ℒ ∗ x"
   ]
  },
  {
   "cell_type": "code",
   "execution_count": 9,
   "metadata": {},
   "outputs": [],
   "source": [
    "x = [1] + [0] * (len(graph.keys()) - 1)"
   ]
  },
  {
   "cell_type": "code",
   "execution_count": 10,
   "metadata": {},
   "outputs": [
    {
     "name": "stdout",
     "output_type": "stream",
     "text": [
      "ℒ ∗ x:\n",
      "[ 4. -1. -1. -1. -1.  0.  0.  0.  0.  0.  0.  0.]\n"
     ]
    }
   ],
   "source": [
    "print('ℒ ∗ x:')\n",
    "# print(np.dot(ℒ, x))\n",
    "print(np.matmul(ℒ, x))"
   ]
  },
  {
   "cell_type": "code",
   "execution_count": 11,
   "metadata": {},
   "outputs": [
    {
     "name": "stdout",
     "output_type": "stream",
     "text": [
      "ℒ ∗ ℒ ∗ x:\n",
      "[20. -6. -6. -6. -6.  1.  1.  1.  1.  0.  0.  0.]\n"
     ]
    }
   ],
   "source": [
    "print('ℒ ∗ ℒ ∗ x:')\n",
    "print(np.matmul(np.matmul(ℒ, ℒ), x))"
   ]
  },
  {
   "cell_type": "code",
   "execution_count": 12,
   "metadata": {},
   "outputs": [
    {
     "name": "stdout",
     "output_type": "stream",
     "text": [
      "ℒ ∗ ℒ ∗ ℒ ∗ x:\n",
      "[104. -33. -33. -33. -33.   7.   8.   8.   8.  -1.  -1.  -1.]\n"
     ]
    }
   ],
   "source": [
    "print('ℒ ∗ ℒ ∗ ℒ ∗ x:')\n",
    "print(np.dot(np.dot(ℒ, np.dot(ℒ, ℒ)), x))"
   ]
  }
 ],
 "metadata": {
  "kernelspec": {
   "display_name": "Python 3",
   "language": "python",
   "name": "python3"
  },
  "language_info": {
   "codemirror_mode": {
    "name": "ipython",
    "version": 3
   },
   "file_extension": ".py",
   "mimetype": "text/x-python",
   "name": "python",
   "nbconvert_exporter": "python",
   "pygments_lexer": "ipython3",
   "version": "3.7.4"
  }
 },
 "nbformat": 4,
 "nbformat_minor": 2
}
